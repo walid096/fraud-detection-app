{
 "cells": [
  {
   "cell_type": "code",
   "execution_count": null,
   "metadata": {},
   "outputs": [],
   "source": [
    "import pandas as pd\n",
    "from sklearn.preprocessing import StandardScaler\n",
    "import joblib\n",
    "\n",
    "# Liste des features attendues par le modèle (vérifie qu'elles correspondent à MODEL_FEATURES dans utils/data_processing.py)\n",
    "MODEL_FEATURES = [\n",
    "    'TransactionAmount', 'CustomerAge', 'TransactionDuration', 'LoginAttempts', 'AccountBalance',\n",
    "    'TransactionAmount_log', 'AccountBalance_log', 'Hour', 'DayOfWeek', 'TimeSinceLastTransaction_s',\n",
    "    'TransactionType_Credit', 'TransactionType_Debit', 'Channel_ATM', 'Channel_Branch', 'Channel_Online',\n",
    "    'CustomerOccupation_Doctor', 'CustomerOccupation_Engineer', 'CustomerOccupation_Retired', 'CustomerOccupation_Student'\n",
    "]\n",
    "\n",
    "# 1. Charge les données prétraitées\n",
    "df = pd.read_csv('data/bank_transactions_processed.csv')\n",
    "\n",
    "# 2. Sélectionne les colonnes de features\n",
    "X_train = df[MODEL_FEATURES]\n",
    "\n",
    "# 3. Fit le scaler\n",
    "scaler = StandardScaler()\n",
    "scaler.fit(X_train)\n",
    "\n",
    "# 4. Sauvegarde le scaler entraîné dans le dossier models/\n",
    "joblib.dump(scaler, 'models/scaler.pkl')\n",
    "\n",
    "print(\"Scaler fitted and saved successfully!\")"
   ]
  }
 ],
 "metadata": {
  "language_info": {
   "name": "python"
  },
  "orig_nbformat": 4
 },
 "nbformat": 4,
 "nbformat_minor": 2
}
